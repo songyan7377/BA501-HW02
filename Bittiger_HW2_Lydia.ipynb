{
 "cells": [
  {
   "cell_type": "code",
   "execution_count": 14,
   "metadata": {},
   "outputs": [
    {
     "ename": "SyntaxError",
     "evalue": "invalid syntax (<ipython-input-14-6c88181dcf04>, line 1)",
     "output_type": "error",
     "traceback": [
      "\u001b[0;36m  File \u001b[0;32m\"<ipython-input-14-6c88181dcf04>\"\u001b[0;36m, line \u001b[0;32m1\u001b[0m\n\u001b[0;31m    echo \"# Bittiger_HW2\" >> README.md\u001b[0m\n\u001b[0m                        ^\u001b[0m\n\u001b[0;31mSyntaxError\u001b[0m\u001b[0;31m:\u001b[0m invalid syntax\n"
     ]
    }
   ],
   "source": [
    "echo \"# Bittiger_HW2\" >> README.md\n",
    "git init\n",
    "git add README.md\n",
    "git commit -m \"first commit\"\n",
    "git remote add origin https://github.com/songyan7377/Bittiger_HW2.git\n",
    "git push -u origin master"
   ]
  },
  {
   "cell_type": "code",
   "execution_count": 24,
   "metadata": {},
   "outputs": [
    {
     "name": "stdout",
     "output_type": "stream",
     "text": [
      "Please input card number\n",
      "4175004175004172\n",
      "Issuer: VISAELECTRON\n"
     ]
    }
   ],
   "source": [
    "# HW question3\n",
    "x = input('Please input card number\\n')\n",
    "card_num = str(x)\n",
    "if (card_num[0:4] in ['4026', '4405', '4508', '4844', '4913', '4917'] or card_num[0:6] == '417500') and len(card_num) == 16:\n",
    "    print('Issuer: VISAELECTRON') \n",
    "elif card_num[0:2] in ['34','37'] and len(card_num) == 15:\n",
    "    print('Issuer: AMEX')\n",
    "elif card_num[0:2] == '36' and len(card_num) == 14:\n",
    "    print('Issuer: Diners Club')\n",
    "elif card_num[0:1] == '4' and len(card_num) == 16: \n",
    "    print('Issuer: VISA')\n",
    "else:\n",
    "    print('Not Applicable')"
   ]
  },
  {
   "cell_type": "code",
   "execution_count": 13,
   "metadata": {
    "scrolled": true
   },
   "outputs": [
    {
     "name": "stdout",
     "output_type": "stream",
     "text": [
      "         time requester_id sent_to_id\n",
      "1  11/01/2017            A          D\n",
      "2  11/02/2017            B          E\n",
      "3  11/03/2017            C          F\n",
      "4  11/03/2017            B          A\n"
     ]
    }
   ],
   "source": [
    "# HW question2\n",
    "'''SQL code\n",
    "Assumption: 1.overall acceptance rate = (# accepted requests)/ (# requests)\n",
    "            2.if there is no request at all, output zero\n",
    "            \n",
    "SELECT DISTINCT(CONCAT(requester_id, sent_to_id)) AS request\n",
    "INTO temp_table1\n",
    "FROM friend_request\n",
    "\n",
    "SELECT DISTINCT(CONCAT(acceptor_id, requestor_id)) AS accept\n",
    "INTO temp_table2\n",
    "FROM request_accepted\n",
    "\n",
    "SELECT COALESCE(COUNT(accept) / COUNT(request), 0) AS 'overall acceptance rate'\n",
    "FROM temp_table1, temp_table2\n",
    "'''\n",
    "\n",
    "import numpy as np\n",
    "import pandas as pd\n",
    "import scipy\n",
    "df1 = pd.DataFrame(\n",
    "    {\n",
    "        'time': ['11/01/2017', '11/02/2017', '11/03/2017', '11/03/2017'],\n",
    "        'requester_id': ['A', 'B', 'C', 'B'],\n",
    "        'sent_to_id': ['D', 'E', 'F', 'A']\n",
    "    },\n",
    "    index = [1, 2, 3, 4],\n",
    "    columns = ['time', 'requester_id', 'sent_to_id']\n",
    ")\n",
    "print(df1)"
   ]
  },
  {
   "cell_type": "code",
   "execution_count": 9,
   "metadata": {},
   "outputs": [
    {
     "name": "stdout",
     "output_type": "stream",
     "text": [
      "         time acceptor_id requestor_id\n",
      "1  11/01/2017           D            A\n",
      "2  11/02/2017           E            B\n",
      "3  11/03/2017           F            C\n"
     ]
    }
   ],
   "source": [
    "df2 = pd.DataFrame(\n",
    "    {\n",
    "        'time': ['11/01/2017', '11/02/2017', '11/03/2017'],\n",
    "        'acceptor_id': ['D', 'E', 'F'],\n",
    "        'requestor_id': ['A', 'B', 'C']\n",
    "    },\n",
    "    index = [1, 2, 3],\n",
    "    columns = ['time', 'acceptor_id', 'requestor_id']\n",
    "    )\n",
    "print(df2)"
   ]
  },
  {
   "cell_type": "code",
   "execution_count": null,
   "metadata": {
    "collapsed": true
   },
   "outputs": [],
   "source": [
    "# HW question 1\n",
    "'''How to handle duplicate values in a dataset in Python?\n",
    "    df.drop_dupicates()'''"
   ]
  }
 ],
 "metadata": {
  "kernelspec": {
   "display_name": "Python 3",
   "language": "python",
   "name": "python3"
  },
  "language_info": {
   "codemirror_mode": {
    "name": "ipython",
    "version": 3
   },
   "file_extension": ".py",
   "mimetype": "text/x-python",
   "name": "python",
   "nbconvert_exporter": "python",
   "pygments_lexer": "ipython3",
   "version": "3.6.3"
  }
 },
 "nbformat": 4,
 "nbformat_minor": 2
}
